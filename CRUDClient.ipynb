{
 "cells": [
  {
   "cell_type": "code",
   "execution_count": 7,
   "id": "4f3d20e6-af49-4f2b-9c40-914449e08f54",
   "metadata": {},
   "outputs": [
    {
     "name": "stdout",
     "output_type": "stream",
     "text": [
      "{'message': 'Hello, FastAPI dari planet Jupyter!'}\n"
     ]
    }
   ],
   "source": [
    "import requests\n",
    "\n",
    "response = requests.get(\"http://127.0.0.1:8000/\")\n",
    "print(response.json())\n"
   ]
  },
  {
   "cell_type": "code",
   "execution_count": 1,
   "id": "a6c03c75-fe3e-4a94-b39e-7d1490e1cb67",
   "metadata": {},
   "outputs": [
    {
     "name": "stdout",
     "output_type": "stream",
     "text": [
      "{'id': 3, 'product': {'name': 'Tablet', 'price': 5000.0, 'description': 'Tablet baru dengan layar lebar'}}\n"
     ]
    }
   ],
   "source": [
    "import requests\n",
    "\n",
    "new_product = {\n",
    "    \"name\": \"Tablet\",\n",
    "    \"price\": 5000,\n",
    "    \"description\": \"Tablet baru dengan layar lebar\"\n",
    "}\n",
    "\n",
    "response = requests.post(\"http://127.0.0.1:8000/products/\", json=new_product)\n",
    "print(response.json())"
   ]
  },
  {
   "cell_type": "code",
   "execution_count": 2,
   "id": "5d749fab-5d3f-46f7-9f37-b2d076d64ca1",
   "metadata": {},
   "outputs": [
    {
     "name": "stdout",
     "output_type": "stream",
     "text": [
      "{'1': {'name': 'Laptop', 'price': 15000, 'description': 'Laptop gaming high-end'}, '2': {'name': 'Smartphone', 'price': 7000, 'description': 'Smartphone terbaru dengan kamera bagus'}, '3': {'name': 'Tablet', 'price': 5000.0, 'description': 'Tablet baru dengan layar lebar'}}\n"
     ]
    }
   ],
   "source": [
    "response = requests.get(\"http://127.0.0.1:8000/products/\")\n",
    "print(response.json())\n"
   ]
  },
  {
   "cell_type": "code",
   "execution_count": 3,
   "id": "f2d98834-3e4f-4d6c-b31d-9158ae35de68",
   "metadata": {},
   "outputs": [
    {
     "name": "stdout",
     "output_type": "stream",
     "text": [
      "{'name': 'Laptop', 'price': 15000, 'description': 'Laptop gaming high-end'}\n"
     ]
    }
   ],
   "source": [
    "response = requests.get(\"http://127.0.0.1:8000/products/1\")\n",
    "print(response.json())\n"
   ]
  },
  {
   "cell_type": "code",
   "execution_count": 6,
   "id": "e2ab0405-545a-49a0-bb5e-c0c48994e918",
   "metadata": {},
   "outputs": [
    {
     "name": "stdout",
     "output_type": "stream",
     "text": [
      "{'id': 1, 'product': {'name': 'Laptop Gaming', 'price': 18000.0, 'description': 'Laptop gaming high-end dengan kartu grafis terbaru'}}\n"
     ]
    }
   ],
   "source": [
    "updated_product = {\n",
    "    \"name\": \"Laptop Gaming\",\n",
    "    \"price\": 18000,\n",
    "    \"description\": \"Laptop gaming high-end dengan kartu grafis terbaru\"\n",
    "}\n",
    "\n",
    "response = requests.put(\"http://127.0.0.1:8000/products/1\", json=updated_product)\n",
    "print(response.json())\n"
   ]
  },
  {
   "cell_type": "code",
   "execution_count": 5,
   "id": "14e49b91-752c-4e94-9537-269cc2cb0774",
   "metadata": {},
   "outputs": [
    {
     "name": "stdout",
     "output_type": "stream",
     "text": [
      "{'message': 'Product 1 deleted successfully'}\n"
     ]
    }
   ],
   "source": [
    "response = requests.delete(\"http://127.0.0.1:8000/products/1\")\n",
    "print(response.json())\n"
   ]
  },
  {
   "cell_type": "code",
   "execution_count": null,
   "id": "dd0706ba-3a80-46af-9033-3520220982f1",
   "metadata": {},
   "outputs": [],
   "source": []
  }
 ],
 "metadata": {
  "kernelspec": {
   "display_name": "Python 3 (ipykernel)",
   "language": "python",
   "name": "python3"
  },
  "language_info": {
   "codemirror_mode": {
    "name": "ipython",
    "version": 3
   },
   "file_extension": ".py",
   "mimetype": "text/x-python",
   "name": "python",
   "nbconvert_exporter": "python",
   "pygments_lexer": "ipython3",
   "version": "3.12.4"
  }
 },
 "nbformat": 4,
 "nbformat_minor": 5
}

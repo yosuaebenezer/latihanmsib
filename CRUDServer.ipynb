{
 "cells": [
  {
   "cell_type": "code",
   "execution_count": null,
   "id": "b8639a54-11dd-4a94-8e8d-d114e143a29a",
   "metadata": {},
   "outputs": [],
   "source": [
    "#LATIHAN DASAR FAST - API\n",
    "#1. Instalasi Paket yang Dibutuhkan\n",
    "#Pastikan Anda telah menginstal FastAPI dan Uvicorn untuk menjalankan server FastAPI. \n",
    "#Jika belum, kerjakan perintah instalasi berikut di sel Jupyter Notebook:\n",
    "\n",
    "!pip install fastapi uvicorn nest_asyncio"
   ]
  },
  {
   "cell_type": "code",
   "execution_count": 10,
   "id": "a2338530-3fa3-4a5d-910c-3035af66c5aa",
   "metadata": {},
   "outputs": [],
   "source": [
    "#2. Jalankan FAST-API dengan mode Loop\n",
    "import nest_asyncio\n",
    "nest_asyncio.apply()"
   ]
  },
  {
   "cell_type": "code",
   "execution_count": 11,
   "id": "38dd0a86-b88f-425a-ae3f-fcb78e0aa8c3",
   "metadata": {},
   "outputs": [
    {
     "name": "stderr",
     "output_type": "stream",
     "text": [
      "INFO:     Started server process [3004]\n",
      "INFO:     Waiting for application startup.\n",
      "INFO:     Application startup complete.\n",
      "INFO:     Uvicorn running on http://127.0.0.1:8000 (Press CTRL+C to quit)\n"
     ]
    },
    {
     "name": "stdout",
     "output_type": "stream",
     "text": [
      "INFO:     127.0.0.1:6481 - \"GET / HTTP/1.1\" 200 OK\n"
     ]
    },
    {
     "name": "stderr",
     "output_type": "stream",
     "text": [
      "INFO:     Shutting down\n",
      "INFO:     Waiting for application shutdown.\n",
      "INFO:     Application shutdown complete.\n",
      "INFO:     Finished server process [3004]\n"
     ]
    }
   ],
   "source": [
    "#3. Bagian utama dari FAST-API \n",
    "from fastapi import FastAPI\n",
    "import uvicorn\n",
    "\n",
    "# Buat instance dari FastAPI\n",
    "app = FastAPI()\n",
    "\n",
    "# Buat endpoint sederhana (diakses tanpa parameter)\n",
    "@app.get(\"/\")\n",
    "def read_root():\n",
    "    return {\"message\": \"Hello, FastAPI dari planet Jupyter!\"}\n",
    "\n",
    "# Tambah endpoint dengan parameter : /items/1 (atau 2 atau 3)\n",
    "@app.get(\"/items/{item_id}\")\n",
    "def read_item(item_id: int, q: str = None):\n",
    "    if item_id==1:\n",
    "        q='Jeruk'\n",
    "    if item_id==2:\n",
    "        q='Mangga'\n",
    "    if item_id==3:\n",
    "        q='Durian'\n",
    "    return {\"item_id\": item_id, \"q\": q}\n",
    "\n",
    "# Jalankan server FastAPI menggunakan Uvicorn\n",
    "if __name__ == \"__main__\":\n",
    "    uvicorn.run(app, host=\"127.0.0.1\", port=8000)\n"
   ]
  },
  {
   "cell_type": "code",
   "execution_count": null,
   "id": "de61504a-53f2-41ae-a47d-860133f8cb34",
   "metadata": {},
   "outputs": [],
   "source": [
    "#MEMBUAT FAST API untuk  CRUD"
   ]
  },
  {
   "cell_type": "code",
   "execution_count": null,
   "id": "202b5033-fefd-4ed7-ba6f-58c3d3e50c6b",
   "metadata": {},
   "outputs": [],
   "source": [
    "import nest_asyncio\n",
    "nest_asyncio.apply()\n"
   ]
  },
  {
   "cell_type": "code",
   "execution_count": 9,
   "id": "f08e09b0-ffc7-42a7-8a20-599d10ec69b8",
   "metadata": {},
   "outputs": [
    {
     "name": "stderr",
     "output_type": "stream",
     "text": [
      "INFO:     Started server process [3004]\n",
      "INFO:     Waiting for application startup.\n",
      "INFO:     Application startup complete.\n",
      "INFO:     Uvicorn running on http://127.0.0.1:8000 (Press CTRL+C to quit)\n"
     ]
    },
    {
     "name": "stdout",
     "output_type": "stream",
     "text": [
      "INFO:     127.0.0.1:6451 - \"PUT /products/1 HTTP/1.1\" 200 OK\n"
     ]
    },
    {
     "name": "stderr",
     "output_type": "stream",
     "text": [
      "INFO:     Shutting down\n",
      "INFO:     Waiting for application shutdown.\n",
      "INFO:     Application shutdown complete.\n",
      "INFO:     Finished server process [3004]\n"
     ]
    }
   ],
   "source": [
    "#1. Membuat Struktur Data\n",
    "#Produk akan disimpan dalam dictionary dengan ID produk sebagai kuncinya.\n",
    "from fastapi import FastAPI, HTTPException\n",
    "from pydantic import BaseModel\n",
    "\n",
    "# Inisialisasi aplikasi FastAPI\n",
    "app = FastAPI()\n",
    "\n",
    "# Simpan data produk dalam memori menggunakan dictionary\n",
    "fake_products_db = {\n",
    "    1: {\"name\": \"Laptop\", \"price\": 15000, \"description\": \"Laptop gaming high-end\"},\n",
    "    2: {\"name\": \"Smartphone\", \"price\": 7000, \"description\": \"Smartphone terbaru dengan kamera bagus\"},\n",
    "}\n",
    "\n",
    "# Model Pydantic untuk validasi input\n",
    "class Product(BaseModel):\n",
    "    name: str\n",
    "    price: float\n",
    "    description: str = None\n",
    "\n",
    "#Bagian untuk menambahkan data produk baru\n",
    "@app.post(\"/products/\")\n",
    "def create_product(product: Product):\n",
    "    new_id = max(fake_products_db.keys()) + 1\n",
    "    fake_products_db[new_id] = product.dict()\n",
    "    return {\"id\": new_id, \"product\": product}\n",
    "\n",
    "#Bagian untuk menampilkan daftar produk yang sudah ada\n",
    "@app.get(\"/products/\")\n",
    "def get_products():\n",
    "    return fake_products_db\n",
    "\n",
    "#bagian untuk menampilkan produk tertentu berdasarkan ID\n",
    "@app.get(\"/products/{product_id}\")\n",
    "def read_product(product_id: int):\n",
    "    product = fake_products_db.get(product_id)\n",
    "    if product is None:\n",
    "        raise HTTPException(status_code=404, detail=\"Product not found\")\n",
    "    return product\n",
    "\n",
    "#Bagian untuk memperbaiki data produk tertentu berdasarkan ID dan nama produknya\n",
    "@app.put(\"/products/{product_id}\")\n",
    "def update_product(product_id: int, product: Product):\n",
    "    if product_id not in fake_products_db:\n",
    "        raise HTTPException(status_code=404, detail=\"Product not found\")\n",
    "    fake_products_db[product_id] = product.dict()\n",
    "    return {\"id\": product_id, \"product\": product}\n",
    "\n",
    "#Bagian untuk menghapus data produk tertentu\n",
    "@app.delete(\"/products/{product_id}\")\n",
    "def delete_product(product_id: int):\n",
    "    if product_id not in fake_products_db:\n",
    "        raise HTTPException(status_code=404, detail=\"Product not found\")\n",
    "    del fake_products_db[product_id]\n",
    "    return {\"message\": f\"Product {product_id} deleted successfully\"}\n",
    "\n",
    "# Jalankan server FastAPI menggunakan Uvicorn\n",
    "if __name__ == \"__main__\":\n",
    "    uvicorn.run(app, host=\"127.0.0.1\", port=8000)"
   ]
  },
  {
   "cell_type": "code",
   "execution_count": null,
   "id": "18591cea-9458-4e30-8603-503e7fad9cb1",
   "metadata": {},
   "outputs": [],
   "source": []
  }
 ],
 "metadata": {
  "kernelspec": {
   "display_name": "Python 3 (ipykernel)",
   "language": "python",
   "name": "python3"
  },
  "language_info": {
   "codemirror_mode": {
    "name": "ipython",
    "version": 3
   },
   "file_extension": ".py",
   "mimetype": "text/x-python",
   "name": "python",
   "nbconvert_exporter": "python",
   "pygments_lexer": "ipython3",
   "version": "3.12.4"
  }
 },
 "nbformat": 4,
 "nbformat_minor": 5
}
